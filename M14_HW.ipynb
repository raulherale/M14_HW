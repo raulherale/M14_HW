{
 "cells": [
  {
   "cell_type": "markdown",
   "id": "bbea800c-241d-42b4-a744-ecaffe13959e",
   "metadata": {},
   "source": [
    "# Metadata\n",
    "\n",
    "```yaml\n",
    "Course:  DS 5100\n",
    "Module:  14 Python Packages\n",
    "Topic:   HW Package Booklover\n",
    "Author:  R.C. Alvarado\n",
    "Date:    11 July 2022\n",
    "```"
   ]
  },
  {
   "cell_type": "markdown",
   "id": "31c46810-4227-4657-8b67-29c43de618ea",
   "metadata": {},
   "source": [
    "# Student Metadata\n",
    "\n",
    "* Name: Ashrith\n",
    "* NetID: svz5ya"
   ]
  },
  {
   "cell_type": "markdown",
   "id": "1baf08dc-35fe-44f1-bc26-7e1130ee993e",
   "metadata": {},
   "source": [
    "# Instructions\n",
    "\n",
    "Follow the recipe we used in class to package the code you wrote for `HW09` -- `booklover.py` and `booklover_test.py`.\n",
    "\n",
    "Here is the recipe:\n",
    "* Create a new git repo for your package.\n",
    "* Create and edit the required files and directories for your package and move the booklover modules there.\n",
    "* Stage, commit, and push all the files you've created.\n",
    "* Install your package with pip.\n",
    "* Outside of your package dir, write a script to test your method.\n",
    "\n",
    "Put this notebook in your repo. This will allow you to execute bash commands and capture the outpunt directly in the notebook.\n",
    "\n",
    "**TOTAL: 8 POINTS**"
   ]
  },
  {
   "cell_type": "markdown",
   "id": "6e39ba79-49ee-41e8-9e49-23d9d6bac2e0",
   "metadata": {
    "tags": []
   },
   "source": [
    "# Q1\n",
    "\n",
    "(5 points)\n",
    "\n",
    "Show the directory structure of your repo by running this command from the root of your repo:"
   ]
  },
  {
   "cell_type": "code",
   "execution_count": 16,
   "id": "7e6c6607",
   "metadata": {},
   "outputs": [
    {
     "name": "stdout",
     "output_type": "stream",
     "text": [
      "total 40\n",
      "drwxr-xr-x  7 apple  staff   224 Jul 11 17:22 \u001b[34mBookLover\u001b[m\u001b[m\n",
      "drwxr-xr-x  6 apple  staff   192 Jul 11 17:24 \u001b[34mBookLover.egg-info\u001b[m\u001b[m\n",
      "-rw-r--r--  1 apple  staff  1067 Jul 11 16:58 LICENSE\n",
      "-rw-r--r--  1 apple  staff  6256 Jul 11 17:27 M14_HW.ipynb\n",
      "-rw-r--r--  1 apple  staff    22 Jul 11 16:58 README.md\n",
      "-rw-------  1 apple  staff   308 Jul 11 17:13 setup.py\n",
      "drwxr-xr-x  4 apple  staff   128 Jul 11 17:52 \u001b[34mtests\u001b[m\u001b[m\n",
      "\n",
      "./BookLover:\n",
      "total 16\n",
      "-rw-r--r--  1 apple  staff  1066 Jul  7 12:53 BookLover.py\n",
      "-rw-------  1 apple  staff    39 Jul 11 17:21 __init__.py\n",
      "drwxr-xr-x  3 apple  staff    96 Jul 11 17:22 \u001b[34m__pycache__\u001b[m\u001b[m\n",
      "\n",
      "./BookLover/__pycache__:\n",
      "total 8\n",
      "-rw-------  1 apple  staff  192 Jul 11 17:22 __init__.cpython-39.pyc\n",
      "\n",
      "./BookLover.egg-info:\n",
      "total 32\n",
      "-rw-r--r--  1 apple  staff  241 Jul 11 17:24 PKG-INFO\n",
      "-rw-r--r--  1 apple  staff  203 Jul 11 17:24 SOURCES.txt\n",
      "-rw-r--r--  1 apple  staff    1 Jul 11 17:24 dependency_links.txt\n",
      "-rw-r--r--  1 apple  staff   10 Jul 11 17:24 top_level.txt\n",
      "\n",
      "./tests:\n",
      "total 8\n",
      "-rw-r--r--  1 apple  staff  2322 Jul  7 12:53 booklover_test.py\n"
     ]
    }
   ],
   "source": [
    "import os\n",
    "os.chdir('/Users/apple/Documents/UVA/ds05/M14_HW')\n",
    "!ls -lR"
   ]
  },
  {
   "cell_type": "markdown",
   "id": "6b6f288b-05aa-441b-8c73-84b50b3b6844",
   "metadata": {},
   "source": [
    "# Q2\n",
    "\n",
    "(1 point)\n",
    "\n",
    "Put the URL of your GitHub repo here. Just paste it into a Markdown cell."
   ]
  },
  {
   "cell_type": "markdown",
   "id": "4d09d889-6104-4f20-b31c-2d8a72b17693",
   "metadata": {},
   "source": [
    "URL: https://github.com/raulherale/M14_HW"
   ]
  },
  {
   "cell_type": "markdown",
   "id": "f989dcd1-b1d2-4eb9-8ef6-8ca2d8495260",
   "metadata": {
    "lines_to_next_cell": 0
   },
   "source": [
    "# Q3\n",
    "\n",
    "(1 point)\n",
    "\n",
    "Show the results of installing your package.\n",
    "\n",
    "```bash\n",
    "!pip install -e .\n",
    "```"
   ]
  },
  {
   "cell_type": "code",
   "execution_count": 17,
   "id": "e5c09f1f-17a4-4a73-ad8c-ee08b556e99e",
   "metadata": {},
   "outputs": [
    {
     "name": "stdout",
     "output_type": "stream",
     "text": [
      "Obtaining file:///Users/apple/Documents/UVA/ds05/M14_HW\n",
      "Installing collected packages: BookLover\n",
      "  Attempting uninstall: BookLover\n",
      "    Found existing installation: BookLover 1.1\n",
      "    Uninstalling BookLover-1.1:\n",
      "      Successfully uninstalled BookLover-1.1\n",
      "  Running setup.py develop for BookLover\n",
      "Successfully installed BookLover-1.1\n"
     ]
    }
   ],
   "source": [
    "!pip install -e ."
   ]
  },
  {
   "cell_type": "markdown",
   "id": "5b1a642e-74f0-43ff-97a3-9ddc7553978e",
   "metadata": {},
   "source": [
    "# Q4\n",
    "\n",
    "(1 point)\n",
    "\n",
    "Create a file outside your repo (one level up) to test your package.\n",
    "\n",
    "Import the package and run it. Specifically, create a BookLover object, add a book, and then print number books read.\n",
    "\n",
    "Show the output of running the file below, using a command like the following:\n",
    "\n",
    "```bash\n",
    "!python ../book_lover_demo.py\n",
    "```"
   ]
  },
  {
   "cell_type": "code",
   "execution_count": 59,
   "id": "5924fca8-6483-4f2b-a33f-6550d1726d6e",
   "metadata": {},
   "outputs": [
    {
     "name": "stdout",
     "output_type": "stream",
     "text": [
      "BookLover Package Installed\n",
      "2\n"
     ]
    }
   ],
   "source": [
    "!python ../BookLover_Demo.py"
   ]
  },
  {
   "cell_type": "code",
   "execution_count": null,
   "id": "befc5297-fdf4-40b6-9983-d0d73e4a942a",
   "metadata": {},
   "outputs": [],
   "source": []
  },
  {
   "cell_type": "code",
   "execution_count": null,
   "id": "63b48abb-0a11-4354-b32b-86500eb0e08a",
   "metadata": {},
   "outputs": [],
   "source": []
  },
  {
   "cell_type": "code",
   "execution_count": null,
   "id": "a931b198-5d37-4a28-9d20-a0a5ecf775e0",
   "metadata": {},
   "outputs": [],
   "source": []
  },
  {
   "cell_type": "code",
   "execution_count": null,
   "id": "2d9e8948-c445-40b2-ba0c-fa7550c69b47",
   "metadata": {},
   "outputs": [],
   "source": []
  },
  {
   "cell_type": "code",
   "execution_count": null,
   "id": "d42c005a-ab1b-4337-84d5-c3e4e3f77836",
   "metadata": {},
   "outputs": [],
   "source": []
  },
  {
   "cell_type": "code",
   "execution_count": null,
   "id": "68bf7ad9-0b4d-4dd8-aa4b-ca23d71d941b",
   "metadata": {},
   "outputs": [],
   "source": []
  }
 ],
 "metadata": {
  "jupytext": {
   "cell_metadata_filter": "-all",
   "main_language": "bash",
   "notebook_metadata_filter": "-all"
  },
  "kernelspec": {
   "display_name": "Python 3 (ipykernel)",
   "language": "python",
   "name": "python3"
  },
  "language_info": {
   "codemirror_mode": {
    "name": "ipython",
    "version": 3
   },
   "file_extension": ".py",
   "mimetype": "text/x-python",
   "name": "python",
   "nbconvert_exporter": "python",
   "pygments_lexer": "ipython3",
   "version": "3.9.12"
  },
  "widgets": {
   "application/vnd.jupyter.widget-state+json": {
    "state": {},
    "version_major": 2,
    "version_minor": 0
   }
  }
 },
 "nbformat": 4,
 "nbformat_minor": 5
}
